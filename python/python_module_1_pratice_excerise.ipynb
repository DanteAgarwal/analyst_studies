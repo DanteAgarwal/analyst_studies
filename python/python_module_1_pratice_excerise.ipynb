{
  "nbformat": 4,
  "nbformat_minor": 0,
  "metadata": {
    "colab": {
      "provenance": []
    },
    "kernelspec": {
      "name": "python3",
      "display_name": "Python 3"
    },
    "language_info": {
      "name": "python"
    }
  },
  "cells": [
    {
      "cell_type": "markdown",
      "source": [
        "#Section 2\n",
        "\n",
        "##Loop and conditions"
      ],
      "metadata": {
        "id": "jy_9HWQA5OVA"
      }
    },
    {
      "cell_type": "markdown",
      "source": [
        "### Mini project: Number Guessing game"
      ],
      "metadata": {
        "id": "fWvBjEE95vx-"
      }
    },
    {
      "cell_type": "code",
      "source": [
        "import random as rd\n",
        "\n",
        "# Initialize game variables\n",
        "is_quit = False\n",
        "is_win = False\n",
        "target_number = rd.randint(1, 100)\n",
        "\n",
        "print(\"🎉 Welcome to the Number Guessing Game! 🎉\")\n",
        "print(\"I'm thinking of a number between 1 and 100.\")\n",
        "print(\"Try to guess it! Type 'q' anytime to quit.\\n\")\n",
        "\n",
        "# Game loop\n",
        "while not is_win and not is_quit:\n",
        "    try:\n",
        "        user_input = input(\"Enter your guess: \")\n",
        "\n",
        "        # Check if user wants to quit\n",
        "        if user_input.lower() == 'q':\n",
        "            is_quit = True\n",
        "            break\n",
        "\n",
        "        # Convert input to integer\n",
        "        guess = int(user_input)\n",
        "\n",
        "        # Check if the guess is correct\n",
        "        if guess == target_number:\n",
        "            is_win = True\n",
        "            print(\"🎉 You win! Hip hip hooray! 🎉\")\n",
        "        elif guess < target_number:\n",
        "            print(\"🔼 Guess higher!\")\n",
        "        else:\n",
        "            print(\"🔽 Guess lower!\")\n",
        "\n",
        "    except ValueError:\n",
        "        print(\"⚠️ Please enter a valid number or 'q' to quit.\")\n",
        "\n",
        "# End game message\n",
        "if is_win:\n",
        "    print(\"\\nCongratulations! You've guessed the correct number. 🎊\")\n",
        "elif is_quit:\n",
        "    print(\"\\nGame over. Thanks for playing! 👋\")\n",
        "else:\n",
        "    print(\"\\nYou lost. Better luck next time! 🍀\")"
      ],
      "metadata": {
        "colab": {
          "base_uri": "https://localhost:8080/"
        },
        "id": "YYcR3NRG58yP",
        "outputId": "63957fb8-6fa8-4b10-83e7-7ab611562a47"
      },
      "execution_count": null,
      "outputs": [
        {
          "output_type": "stream",
          "name": "stdout",
          "text": [
            "🎉 Welcome to the Number Guessing Game! 🎉\n",
            "I'm thinking of a number between 1 and 100.\n",
            "Try to guess it! Type 'q' anytime to quit.\n",
            "\n",
            "Enter your guess: 4\n",
            "🔼 Guess higher!\n",
            "Enter your guess: q\n",
            "\n",
            "Game over. Thanks for playing! 👋\n"
          ]
        }
      ]
    },
    {
      "cell_type": "markdown",
      "source": [
        "extra game , with 11 stats distribution"
      ],
      "metadata": {
        "id": "XtscmHyDPPCY"
      }
    },
    {
      "cell_type": "code",
      "source": [
        "import random as rd\n",
        "\n",
        "def get_random_number(distribution):\n",
        "    \"\"\"Generates a random number based on the chosen distribution.\"\"\"\n",
        "    if distribution == 'uniform':\n",
        "        return rd.randint(1, 100)\n",
        "    elif distribution == 'normal':\n",
        "        # Normal distribution around 50 with a standard deviation of 15\n",
        "        return min(100, max(1, int(rd.gauss(50, 15))))\n",
        "    elif distribution == 'triangular':\n",
        "        # Triangular distribution with mode around 50\n",
        "        return int(rd.triangular(1, 100, 50))\n",
        "    elif distribution == 'exponential':\n",
        "        # Exponential distribution skewed towards lower numbers\n",
        "        return min(100, max(1, int(rd.expovariate(0.1))))\n",
        "    elif distribution == 'lognormal':\n",
        "        # Log-normal distribution, skewed towards lower numbers\n",
        "        return min(100, max(1, int(rd.lognormvariate(0, 0.5))))\n",
        "    elif distribution == 'gamma':\n",
        "        # Gamma distribution with alpha=2, beta=2\n",
        "        return min(100, max(1, int(rd.gammavariate(2, 2))))\n",
        "    elif distribution == 'beta':\n",
        "        # Beta distribution scaled to 1-100\n",
        "        return min(100, max(1, int(rd.betavariate(2, 5) * 100)))\n",
        "    elif distribution == 'weibull':\n",
        "        # Weibull distribution, shape parameter = 1.5\n",
        "        return min(100, max(1, int(rd.weibullvariate(1.5, 1.0) * 30)))\n",
        "    elif distribution == 'pareto':\n",
        "        # Pareto distribution, heavy skew towards lower numbers\n",
        "        return min(100, max(1, int(rd.paretovariate(2) * 10)))\n",
        "    elif distribution == 'vonmises':\n",
        "        # Von Mises distribution, centered around 50\n",
        "        return min(100, max(1, int(rd.vonmisesvariate(0, 4) * 25 + 50)))\n",
        "    elif distribution == 'cauchy':\n",
        "        # Correctly implemented Cauchy distribution (Heavy tails)\n",
        "        return min(100, max(1, int(50 + 15 * (rd.gauss(0, 1) / rd.gauss(0, 1)))))\n",
        "    else:\n",
        "        return rd.randint(1, 100)\n",
        "\n",
        "# Game setup\n",
        "print(\"🎉 Welcome to the Ultimate Number Guessing Game! 🎉\")\n",
        "print(\"I'm thinking of a number between 1 and 100.\")\n",
        "print(\"You can choose a distribution for the randomness:\")\n",
        "print(\"1. Uniform (Equal probability)\")\n",
        "print(\"2. Normal (Numbers around 50)\")\n",
        "print(\"3. Triangular (Most around 50)\")\n",
        "print(\"4. Exponential (More low numbers)\")\n",
        "print(\"5. Log-Normal (Skewed towards low numbers)\")\n",
        "print(\"6. Gamma (Moderate skew)\")\n",
        "print(\"7. Beta (Numbers between 0 and 100)\")\n",
        "print(\"8. Weibull (Reliability-based skew)\")\n",
        "print(\"9. Pareto (Heavy skew towards lower numbers)\")\n",
        "print(\"10. Von Mises (Centered around 50)\")\n",
        "print(\"11. Cauchy (HARD MODE - Good Luck!)\")\n",
        "\n",
        "# User selects distribution\n",
        "while True:\n",
        "    choice = input(\"Choose a distribution (1-11): \")\n",
        "    if choice in map(str, range(1, 12)):\n",
        "        break\n",
        "    print(\"Invalid choice, please select a number between 1 and 11.\")\n",
        "\n",
        "distribution_map = {\n",
        "    '1': 'uniform',\n",
        "    '2': 'normal',\n",
        "    '3': 'triangular',\n",
        "    '4': 'exponential',\n",
        "    '5': 'lognormal',\n",
        "    '6': 'gamma',\n",
        "    '7': 'beta',\n",
        "    '8': 'weibull',\n",
        "    '9': 'pareto',\n",
        "    '10': 'vonmises',\n",
        "    '11': 'cauchy'\n",
        "}\n",
        "distribution = distribution_map.get(choice, 'uniform')\n",
        "\n",
        "# Generate the target number\n",
        "target_number = get_random_number(distribution)\n",
        "is_quit = False\n",
        "is_win = False\n",
        "\n",
        "print(\"\\nTry to guess the number! Type 'q' anytime to quit.\\n\")\n",
        "\n",
        "# Game loop\n",
        "while not is_win and not is_quit:\n",
        "    try:\n",
        "        user_input = input(\"Enter your guess: \")\n",
        "\n",
        "        # Check if user wants to quit\n",
        "        if user_input.lower() == 'q':\n",
        "            is_quit = True\n",
        "            break\n",
        "\n",
        "        # Convert input to integer\n",
        "        guess = int(user_input)\n",
        "\n",
        "        # Check if the guess is correct\n",
        "        if guess == target_number:\n",
        "            is_win = True\n",
        "            print(\"🎉 You win! Hip hip hooray! 🎉\")\n",
        "        elif guess < target_number:\n",
        "            print(\"🔼 Guess higher!\")\n",
        "        else:\n",
        "            print(\"🔽 Guess lower!\")\n",
        "\n",
        "    except ValueError:\n",
        "        print(\"⚠️ Please enter a valid number or 'q' to quit.\")\n",
        "\n",
        "# End game message\n",
        "if is_win:\n",
        "    print(\"\\nCongratulations! You've guessed the correct number. 🎊\")\n",
        "elif is_quit:\n",
        "    print(\"\\nGame over. Thanks for playing! 👋\")\n",
        "else:\n",
        "    print(\"\\nYou lost. Better luck next time! 🍀\")"
      ],
      "metadata": {
        "colab": {
          "base_uri": "https://localhost:8080/"
        },
        "id": "6_lDCdAPPalo",
        "outputId": "6de4c459-a7aa-45ce-ab32-c9cea7de30ff"
      },
      "execution_count": null,
      "outputs": [
        {
          "output_type": "stream",
          "name": "stdout",
          "text": [
            "🎉 Welcome to the Ultimate Number Guessing Game! 🎉\n",
            "I'm thinking of a number between 1 and 100.\n",
            "You can choose a distribution for the randomness:\n",
            "1. Uniform (Equal probability)\n",
            "2. Normal (Numbers around 50)\n",
            "3. Triangular (Most around 50)\n",
            "4. Exponential (More low numbers)\n",
            "5. Log-Normal (Skewed towards low numbers)\n",
            "6. Gamma (Moderate skew)\n",
            "7. Beta (Numbers between 0 and 100)\n",
            "8. Weibull (Reliability-based skew)\n",
            "9. Pareto (Heavy skew towards lower numbers)\n",
            "10. Von Mises (Centered around 50)\n",
            "11. Cauchy (HARD MODE - Good Luck!)\n",
            "Choose a distribution (1-11): q\n",
            "Invalid choice, please select a number between 1 and 11.\n",
            "Choose a distribution (1-11): 11\n",
            "\n",
            "Try to guess the number! Type 'q' anytime to quit.\n",
            "\n",
            "Enter your guess: q\n",
            "\n",
            "Game over. Thanks for playing! 👋\n"
          ]
        }
      ]
    },
    {
      "cell_type": "markdown",
      "source": [],
      "metadata": {
        "id": "CO65v7kpPBdB"
      }
    },
    {
      "cell_type": "markdown",
      "source": [
        "# Section 3\n",
        "\n",
        "## User-defined function\n"
      ],
      "metadata": {
        "id": "bISCDVtDO72J"
      }
    },
    {
      "cell_type": "markdown",
      "source": [
        "### Mini Project: Calculator"
      ],
      "metadata": {
        "id": "WuWqYt8YWdO1"
      }
    },
    {
      "cell_type": "code",
      "source": [
        "def add(a, b):\n",
        "    return a + b\n",
        "\n",
        "def subtract(a, b):\n",
        "    return a - b\n",
        "\n",
        "def multiply(a, b):\n",
        "    return a * b\n",
        "\n",
        "def divide(a, b):\n",
        "    if b == 0:\n",
        "        return \"Error! Division by zero.\"\n",
        "    return a / b\n",
        "\n",
        "def exponentiate(a, b):\n",
        "    return a ** b\n",
        "\n",
        "def modulo(a, b):\n",
        "    if b == 0:\n",
        "        return \"Error! Division by zero.\"\n",
        "    return a % b\n",
        "\n",
        "def advanced_calculator():\n",
        "    print(\"Welcome to the Advanced Calculator!\")\n",
        "    print(\"Available operations:\")\n",
        "    print(\"1. Addition (+)\")\n",
        "    print(\"2. Subtraction (-)\")\n",
        "    print(\"3. Multiplication (*)\")\n",
        "    print(\"4. Division (/)\")\n",
        "    print(\"5. Exponentiation (^)\")\n",
        "    print(\"6. Modulo (%)\")\n",
        "    print(\"7. Exit\")\n",
        "\n",
        "    while True:\n",
        "        try:\n",
        "            choice = input(\"\\nSelect an operation (1-7): \")\n",
        "            if choice == '7':\n",
        "                print(\"Exiting the calculator. Goodbye!\")\n",
        "                break\n",
        "\n",
        "            if choice not in {'1', '2', '3', '4', '5', '6'}:\n",
        "                print(\"Invalid choice! Please select a valid option.\")\n",
        "                continue\n",
        "\n",
        "            num1 = float(input(\"Enter the first number: \"))\n",
        "            num2 = float(input(\"Enter the second number: \"))\n",
        "\n",
        "            if choice == '1':\n",
        "                print(f\"Result: {add(num1, num2)}\")\n",
        "            elif choice == '2':\n",
        "                print(f\"Result: {subtract(num1, num2)}\")\n",
        "            elif choice == '3':\n",
        "                print(f\"Result: {multiply(num1, num2)}\")\n",
        "            elif choice == '4':\n",
        "                print(f\"Result: {divide(num1, num2)}\")\n",
        "            elif choice == '5':\n",
        "                print(f\"Result: {exponentiate(num1, num2)}\")\n",
        "            elif choice == '6':\n",
        "                print(f\"Result: {modulo(num1, num2)}\")\n",
        "\n",
        "        except ValueError:\n",
        "            print(\"Error! Please enter valid numeric inputs.\")\n",
        "\n",
        "# Run the calculator\n",
        "advanced_calculator()"
      ],
      "metadata": {
        "id": "83tULqlYN8fw"
      },
      "execution_count": null,
      "outputs": []
    },
    {
      "cell_type": "markdown",
      "source": [
        "add history and and some trigonometry to calculator"
      ],
      "metadata": {
        "id": "O4-_QC3wOvDm"
      }
    },
    {
      "cell_type": "code",
      "source": [
        "import math\n",
        "\n",
        "# Basic operations\n",
        "def add(a, b):\n",
        "    return a + b\n",
        "\n",
        "def subtract(a, b):\n",
        "    return a - b\n",
        "\n",
        "def multiply(a, b):\n",
        "    return a * b\n",
        "\n",
        "def divide(a, b):\n",
        "    if b == 0:\n",
        "        return \"Error! Division by zero.\"\n",
        "    return a / b\n",
        "\n",
        "def exponentiate(a, b):\n",
        "    return a ** b\n",
        "\n",
        "def modulo(a, b):\n",
        "    if b == 0:\n",
        "        return \"Error! Division by zero.\"\n",
        "    return a % b\n",
        "\n",
        "# Advanced operations\n",
        "def square_root(a):\n",
        "    if a < 0:\n",
        "        return \"Error! Square root of a negative number is not real.\"\n",
        "    return math.sqrt(a)\n",
        "\n",
        "def logarithm(a, base=10):\n",
        "    if a <= 0:\n",
        "        return \"Error! Logarithm of zero or negative number is undefined.\"\n",
        "    return math.log(a, base)\n",
        "\n",
        "def sine(a):\n",
        "    return math.sin(math.radians(a))\n",
        "\n",
        "def cosine(a):\n",
        "    return math.cos(math.radians(a))\n",
        "\n",
        "def tangent(a):\n",
        "    return math.tan(math.radians(a))\n",
        "\n",
        "# Calculator with history\n",
        "def advanced_calculator():\n",
        "    history = []\n",
        "    print(\"Welcome to the Super-Advanced Calculator!\")\n",
        "    print(\"\"\"\n",
        "    Available Operations:\n",
        "    1. Addition (+)\n",
        "    2. Subtraction (-)\n",
        "    3. Multiplication (*)\n",
        "    4. Division (/)\n",
        "    5. Exponentiation (^)\n",
        "    6. Modulo (%)\n",
        "    7. Square Root (√)\n",
        "    8. Logarithm (log)\n",
        "    9. Sine (sin)\n",
        "    10. Cosine (cos)\n",
        "    11. Tangent (tan)\n",
        "    12. View History\n",
        "    13. Exit\n",
        "    \"\"\")\n",
        "\n",
        "    while True:\n",
        "        try:\n",
        "            choice = input(\"\\nSelect an operation (1-13): \")\n",
        "            if choice == '13':\n",
        "                print(\"Exiting the calculator. Goodbye!\")\n",
        "                break\n",
        "\n",
        "            if choice == '12':\n",
        "                print(\"\\nCalculation History:\")\n",
        "                if not history:\n",
        "                    print(\"No calculations yet!\")\n",
        "                else:\n",
        "                    for idx, item in enumerate(history, 1):\n",
        "                        print(f\"{idx}. {item}\")\n",
        "                continue\n",
        "\n",
        "            if choice not in {str(i) for i in range(1, 14)}:\n",
        "                print(\"Invalid choice! Please select a valid option.\")\n",
        "                continue\n",
        "\n",
        "            # Single input operations\n",
        "            if choice in {'7', '8', '9', '10', '11'}:\n",
        "                num = float(input(\"Enter the number: \"))\n",
        "\n",
        "                if choice == '7':  # Square Root\n",
        "                    result = square_root(num)\n",
        "                    operation = f\"√{num}\"\n",
        "                elif choice == '8':  # Logarithm\n",
        "                    base = int(input(\"Enter the base (default is 10): \") or 10)\n",
        "                    result = logarithm(num, base)\n",
        "                    operation = f\"log_{base}({num})\"\n",
        "                elif choice == '9':  # Sine\n",
        "                    result = sine(num)\n",
        "                    operation = f\"sin({num})\"\n",
        "                elif choice == '10':  # Cosine\n",
        "                    result = cosine(num)\n",
        "                    operation = f\"cos({num})\"\n",
        "                elif choice == '11':  # Tangent\n",
        "                    result = tangent(num)\n",
        "                    operation = f\"tan({num})\"\n",
        "\n",
        "            # Double input operations\n",
        "            else:\n",
        "                num1 = float(input(\"Enter the first number: \"))\n",
        "                num2 = float(input(\"Enter the second number: \"))\n",
        "\n",
        "                if choice == '1':  # Addition\n",
        "                    result = add(num1, num2)\n",
        "                    operation = f\"{num1} + {num2}\"\n",
        "                elif choice == '2':  # Subtraction\n",
        "                    result = subtract(num1, num2)\n",
        "                    operation = f\"{num1} - {num2}\"\n",
        "                elif choice == '3':  # Multiplication\n",
        "                    result = multiply(num1, num2)\n",
        "                    operation = f\"{num1} * {num2}\"\n",
        "                elif choice == '4':  # Division\n",
        "                    result = divide(num1, num2)\n",
        "                    operation = f\"{num1} / {num2}\"\n",
        "                elif choice == '5':  # Exponentiation\n",
        "                    result = exponentiate(num1, num2)\n",
        "                    operation = f\"{num1} ^ {num2}\"\n",
        "                elif choice == '6':  # Modulo\n",
        "                    result = modulo(num1, num2)\n",
        "                    operation = f\"{num1} % {num2}\"\n",
        "\n",
        "            print(f\"Result: {result}\")\n",
        "            history.append(f\"{operation} = {result}\")\n",
        "\n",
        "        except ValueError:\n",
        "            print(\"Error! Please enter valid numeric inputs.\")\n",
        "\n",
        "# Run the calculator\n",
        "advanced_calculator()"
      ],
      "metadata": {
        "id": "B5hLr8GmOvrq"
      },
      "execution_count": null,
      "outputs": []
    },
    {
      "cell_type": "code",
      "source": [
        "list1 = ['A','B','C','D','E']\n",
        "\n",
        "#OUTER LOOP\n",
        "for i in range(len(list1),-1,-1):\n",
        "  for j in range(i,5): # range(6,5,-1)\n",
        "    print(list1[j],end=\" \")\n",
        "  print()"
      ],
      "metadata": {
        "colab": {
          "base_uri": "https://localhost:8080/"
        },
        "id": "5pMTmRF3P3ax",
        "outputId": "7735e5ef-78e6-4453-ddf3-8b2e371cb666"
      },
      "execution_count": 7,
      "outputs": [
        {
          "output_type": "stream",
          "name": "stdout",
          "text": [
            "\n",
            "E \n",
            "D E \n",
            "C D E \n",
            "B C D E \n",
            "A B C D E \n"
          ]
        }
      ]
    },
    {
      "cell_type": "markdown",
      "source": [
        "4\n",
        "3 4\n",
        "2 3 4\n",
        "1 2 3 4\n"
      ],
      "metadata": {
        "id": "ko0ENnO_UGUW"
      }
    },
    {
      "cell_type": "code",
      "source": [
        "limit = int(input(\"Enter limit:\"))\n",
        "for i in range(limit):\n",
        "    start_char = ord('A') + limit - i - 1\n",
        "    for j in range(i + 1):\n",
        "        print(chr(start_char + j), end=\" \")\n",
        "    print(end=\"\\n\")"
      ],
      "metadata": {
        "colab": {
          "base_uri": "https://localhost:8080/"
        },
        "id": "Nsv6LghbVYls",
        "outputId": "49639a1e-cc00-4138-b5cd-147f57222b09"
      },
      "execution_count": 9,
      "outputs": [
        {
          "output_type": "stream",
          "name": "stdout",
          "text": [
            "Enter limit:6\n",
            "F \n",
            "E F \n",
            "D E F \n",
            "C D E F \n",
            "B C D E F \n",
            "A B C D E F \n"
          ]
        }
      ]
    }
  ]
}